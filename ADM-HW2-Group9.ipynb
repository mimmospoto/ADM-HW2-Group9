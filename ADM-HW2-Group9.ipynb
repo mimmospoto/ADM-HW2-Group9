{
 "cells": [
  {
   "cell_type": "markdown",
   "metadata": {},
   "source": [
    "# Homework 2 - eCommerce analytics - Group 9"
   ]
  },
  {
   "cell_type": "markdown",
   "metadata": {},
   "source": [
    "### Libraries"
   ]
  },
  {
   "cell_type": "code",
   "execution_count": 2,
   "metadata": {},
   "outputs": [],
   "source": [
    "import pandas as pd \n",
    "import numpy as np \n",
    "import matplotlib.pyplot as plt \n",
    "%matplotlib inline\n",
    "\n",
    "import seaborn as sns\n",
    "import copy\n",
    "import os\n",
    "\n",
    "import datetime\n",
    "import time\n",
    "\n",
    "\n",
    "import functions"
   ]
  },
  {
   "cell_type": "code",
   "execution_count": 5,
   "metadata": {},
   "outputs": [],
   "source": [
    "# paths of databases for csv files (dataset from Oct 2019 to Apr 2020)\n",
    "#df_names = ['Data/2019-Oct.csv', 'Data/2019-Nov.csv', 'Data/2019-Dec.csv',\n",
    "#            'Data/2019-Jan.csv', 'Data/2019-Feb.csv', 'Data/2019-Mar.csv', \n",
    "#            'Data/2019-Apr.csv']\n",
    "\n",
    "# months to analize \n",
    "months = ['October','November','December','January','February','March','April']\n",
    "\n",
    "# path of Mimmo\n",
    "df_names = ['/Users/domenicospoto/Desktop/Data/2019-Oct.csv']\n",
    "            #, '/Users/domenicospoto/Desktop/Data/2019-Nov.csv']\n",
    "old_df_names = ['/Users/domenicospoto/Desktop/2019-Oct.csv.zip']\n",
    "\n",
    "# path of Laura\n",
    "\n",
    "# path of Lorenzo"
   ]
  },
  {
   "cell_type": "markdown",
   "metadata": {},
   "source": [
    "### Reading the dataset"
   ]
  },
  {
   "cell_type": "code",
   "execution_count": 3,
   "metadata": {},
   "outputs": [
    {
     "name": "stdout",
     "output_type": "stream",
     "text": [
      "Month October :\n",
      "   event_time has number of Nan : 0\n",
      "   event_type has number of Nan : 0\n",
      "   product_id has number of Nan : 0\n",
      "   category_id has number of Nan : 0\n",
      "   category_code has number of Nan : 13515609\n",
      "   brand has number of Nan : 6117080\n",
      "   price has number of Nan : 0\n",
      "   user_id has number of Nan : 0\n",
      "   user_session has number of Nan : 2\n"
     ]
    }
   ],
   "source": [
    "functions.infos(old_df_names, months)"
   ]
  },
  {
   "cell_type": "markdown",
   "metadata": {},
   "source": [
    "### Cleaning Data"
   ]
  },
  {
   "cell_type": "code",
   "execution_count": 6,
   "metadata": {},
   "outputs": [],
   "source": [
    "functions.make_new_csv(old_df_names, df_names)"
   ]
  },
  {
   "cell_type": "code",
   "execution_count": 7,
   "metadata": {},
   "outputs": [
    {
     "name": "stdout",
     "output_type": "stream",
     "text": [
      "Month October :\n",
      "   -event_time has number of Nan : 0\n",
      "   -event_type has number of Nan : 0\n",
      "   -product_id has number of Nan : 0\n",
      "   -category_id has number of Nan : 0\n",
      "   -category_code has number of Nan : 0\n",
      "   -brand has number of Nan : 0\n",
      "   -price has number of Nan : 0\n",
      "   -user_id has number of Nan : 0\n",
      "   -user_session has number of Nan : 0\n",
      "Total number of rows: 26560620\n"
     ]
    }
   ],
   "source": [
    "functions.infos(df_names, months)"
   ]
  },
  {
   "cell_type": "code",
   "execution_count": null,
   "metadata": {},
   "outputs": [],
   "source": []
  }
 ],
 "metadata": {
  "kernelspec": {
   "display_name": "Python 3",
   "language": "python",
   "name": "python3"
  },
  "language_info": {
   "codemirror_mode": {
    "name": "ipython",
    "version": 3
   },
   "file_extension": ".py",
   "mimetype": "text/x-python",
   "name": "python",
   "nbconvert_exporter": "python",
   "pygments_lexer": "ipython3",
   "version": "3.7.7"
  }
 },
 "nbformat": 4,
 "nbformat_minor": 4
}
